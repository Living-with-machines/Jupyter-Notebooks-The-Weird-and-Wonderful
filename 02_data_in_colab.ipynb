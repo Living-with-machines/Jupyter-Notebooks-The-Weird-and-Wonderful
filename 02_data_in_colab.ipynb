{
  "nbformat": 4,
  "nbformat_minor": 0,
  "metadata": {
    "colab": {
      "name": "02_data_in_colab.ipynb",
      "provenance": [],
      "collapsed_sections": [],
      "authorship_tag": "ABX9TyPZEDFb0g35Vdic7xSdxGmZ",
      "include_colab_link": true
    },
    "kernelspec": {
      "name": "python3",
      "display_name": "Python 3"
    },
    "language_info": {
      "name": "python"
    }
  },
  "cells": [
    {
      "cell_type": "markdown",
      "metadata": {
        "id": "view-in-github",
        "colab_type": "text"
      },
      "source": [
        "<a href=\"https://colab.research.google.com/github/davanstrien/Intro-to-Jupyter-Notebooks-The-Weird-and-Wonderful/blob/draft/02_data_in_colab.ipynb\" target=\"_parent\"><img src=\"https://colab.research.google.com/assets/colab-badge.svg\" alt=\"Open In Colab\"/></a>"
      ]
    },
    {
      "cell_type": "markdown",
      "metadata": {
        "id": "85ZWqjqQ0TNs"
      },
      "source": [
        "## Getting data into  Colab \n",
        "\n",
        "This notebook covers a few ways of getting data into a Colab notebook. If you are working with someone else notebook inside colab and they don't do the data downloading inside their notebook you may need to modify how the data is accessed slightly. A few key ways of getting data into a Colab notebook include the following"
      ]
    },
    {
      "cell_type": "markdown",
      "metadata": {
        "id": "ezwqZELb3N2k"
      },
      "source": [
        "### Use the upload button"
      ]
    },
    {
      "cell_type": "markdown",
      "metadata": {
        "id": "cPpGzf3u3NvD"
      },
      "source": [
        "![Screenshot 2021-05-17 at 16.05.20.png](data:image/png;base64,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)"
      ]
    },
    {
      "cell_type": "markdown",
      "metadata": {
        "id": "isJ12Na_3SXR"
      },
      "source": [
        "This works well for small files but once things get bigger this option will stop working. It also relies on the upload speed of your internet which is often quite slow compared to your download speed. "
      ]
    },
    {
      "cell_type": "markdown",
      "metadata": {
        "id": "61Xw8aMj3c8b"
      },
      "source": [
        "### Pandas reads data from urls"
      ]
    },
    {
      "cell_type": "markdown",
      "metadata": {
        "id": "Ex8x5s0H0Ka6"
      },
      "source": [
        "pandas can take a url to csvs and other data that. This can be handy if you only need to get data into a dataframe to start since the rest of the notebool will probably be the same. "
      ]
    },
    {
      "cell_type": "code",
      "metadata": {
        "id": "n3cKgXNT0hwX"
      },
      "source": [
        "import pandas as pd"
      ],
      "execution_count": 7,
      "outputs": []
    },
    {
      "cell_type": "markdown",
      "metadata": {
        "id": "-uZxpWpv3qvN"
      },
      "source": [
        "As an example we'll load the data from a GitHub repository. From this [link](https://github.com/Living-with-machines/PressPicker_public/blob/master/datasets/previous_selections_to_exclude/Jon_hardcopySelection_Aug2019_withSublibrary.csv) we can see a CSV file. We need to get the url for the \"raw\" version. We can pass this into pandas read_csv directly "
      ]
    },
    {
      "cell_type": "code",
      "metadata": {
        "colab": {
          "base_uri": "https://localhost:8080/",
          "height": 1000
        },
        "id": "IX_BOdtS0i44",
        "outputId": "86827181-97c1-4130-89a2-846c2a111262"
      },
      "source": [
        "pd.read_csv('https://raw.githubusercontent.com/Living-with-machines/PressPicker_public/master/datasets/previous_selections_to_exclude/Jon_hardcopySelection_Aug2019_withSublibrary.csv')"
      ],
      "execution_count": 8,
      "outputs": [
        {
          "output_type": "execute_result",
          "data": {
            "text/html": [
              "<div>\n",
              "<style scoped>\n",
              "    .dataframe tbody tr th:only-of-type {\n",
              "        vertical-align: middle;\n",
              "    }\n",
              "\n",
              "    .dataframe tbody tr th {\n",
              "        vertical-align: top;\n",
              "    }\n",
              "\n",
              "    .dataframe thead th {\n",
              "        text-align: right;\n",
              "    }\n",
              "</style>\n",
              "<table border=\"1\" class=\"dataframe\">\n",
              "  <thead>\n",
              "    <tr style=\"text-align: right;\">\n",
              "      <th></th>\n",
              "      <th>ID</th>\n",
              "      <th>245a</th>\n",
              "      <th>250a</th>\n",
              "      <th>ITEM or VIT</th>\n",
              "      <th>Barcode</th>\n",
              "      <th>Item Status</th>\n",
              "      <th>Chron I_x</th>\n",
              "      <th>Chron J</th>\n",
              "      <th>Chron K</th>\n",
              "      <th>Enum A</th>\n",
              "      <th>Enum B</th>\n",
              "      <th>Enum C</th>\n",
              "      <th>Sublibrary</th>\n",
              "      <th>Publication.title</th>\n",
              "      <th>General.area.of.coverage</th>\n",
              "      <th>Chron I_y</th>\n",
              "      <th>Title.ID</th>\n",
              "    </tr>\n",
              "  </thead>\n",
              "  <tbody>\n",
              "    <tr>\n",
              "      <th>0</th>\n",
              "      <td>13894026</td>\n",
              "      <td>Stockton Herald, South Durham and Cleveland Ad...</td>\n",
              "      <td>NaN</td>\n",
              "      <td>ITEM</td>\n",
              "      <td>B2128269</td>\n",
              "      <td>1</td>\n",
              "      <td>1892</td>\n",
              "      <td>NaN</td>\n",
              "      <td>NaN</td>\n",
              "      <td>NaN</td>\n",
              "      <td>NaN</td>\n",
              "      <td>NaN</td>\n",
              "      <td>HMNTS</td>\n",
              "      <td>Stockton Herald, South Durham and Cleveland Ad...</td>\n",
              "      <td>Cleveland</td>\n",
              "      <td></td>\n",
              "      <td>13894026</td>\n",
              "    </tr>\n",
              "    <tr>\n",
              "      <th>1</th>\n",
              "      <td>13894026</td>\n",
              "      <td>Stockton Herald, South Durham and Cleveland Ad...</td>\n",
              "      <td>NaN</td>\n",
              "      <td>ITEM</td>\n",
              "      <td>B2128267</td>\n",
              "      <td>1</td>\n",
              "      <td>1891</td>\n",
              "      <td>NaN</td>\n",
              "      <td>NaN</td>\n",
              "      <td>NaN</td>\n",
              "      <td>NaN</td>\n",
              "      <td>NaN</td>\n",
              "      <td>HMNTS</td>\n",
              "      <td>Stockton Herald, South Durham and Cleveland Ad...</td>\n",
              "      <td>Cleveland</td>\n",
              "      <td>1891</td>\n",
              "      <td>13894026</td>\n",
              "    </tr>\n",
              "    <tr>\n",
              "      <th>2</th>\n",
              "      <td>13894026</td>\n",
              "      <td>Stockton Herald, South Durham and Cleveland Ad...</td>\n",
              "      <td>NaN</td>\n",
              "      <td>ITEM</td>\n",
              "      <td>B2128265</td>\n",
              "      <td>1</td>\n",
              "      <td>1890</td>\n",
              "      <td>NaN</td>\n",
              "      <td>NaN</td>\n",
              "      <td>NaN</td>\n",
              "      <td>NaN</td>\n",
              "      <td>NaN</td>\n",
              "      <td>HMNTS</td>\n",
              "      <td>Stockton Herald, South Durham and Cleveland Ad...</td>\n",
              "      <td>Cleveland</td>\n",
              "      <td>1890</td>\n",
              "      <td>13894026</td>\n",
              "    </tr>\n",
              "    <tr>\n",
              "      <th>3</th>\n",
              "      <td>13894026</td>\n",
              "      <td>Stockton Herald, South Durham and Cleveland Ad...</td>\n",
              "      <td>NaN</td>\n",
              "      <td>ITEM</td>\n",
              "      <td>B2128263</td>\n",
              "      <td>1</td>\n",
              "      <td>1889</td>\n",
              "      <td>NaN</td>\n",
              "      <td>NaN</td>\n",
              "      <td>NaN</td>\n",
              "      <td>NaN</td>\n",
              "      <td>NaN</td>\n",
              "      <td>HMNTS</td>\n",
              "      <td>Stockton Herald, South Durham and Cleveland Ad...</td>\n",
              "      <td>Cleveland</td>\n",
              "      <td>1889</td>\n",
              "      <td>13894026</td>\n",
              "    </tr>\n",
              "    <tr>\n",
              "      <th>4</th>\n",
              "      <td>13894026</td>\n",
              "      <td>Stockton Herald, South Durham and Cleveland Ad...</td>\n",
              "      <td>NaN</td>\n",
              "      <td>ITEM</td>\n",
              "      <td>B2128261</td>\n",
              "      <td>1</td>\n",
              "      <td>1888</td>\n",
              "      <td>NaN</td>\n",
              "      <td>NaN</td>\n",
              "      <td>NaN</td>\n",
              "      <td>NaN</td>\n",
              "      <td>NaN</td>\n",
              "      <td>HMNTS</td>\n",
              "      <td>Stockton Herald, South Durham and Cleveland Ad...</td>\n",
              "      <td>Cleveland</td>\n",
              "      <td>1888</td>\n",
              "      <td>13894026</td>\n",
              "    </tr>\n",
              "    <tr>\n",
              "      <th>...</th>\n",
              "      <td>...</td>\n",
              "      <td>...</td>\n",
              "      <td>...</td>\n",
              "      <td>...</td>\n",
              "      <td>...</td>\n",
              "      <td>...</td>\n",
              "      <td>...</td>\n",
              "      <td>...</td>\n",
              "      <td>...</td>\n",
              "      <td>...</td>\n",
              "      <td>...</td>\n",
              "      <td>...</td>\n",
              "      <td>...</td>\n",
              "      <td>...</td>\n",
              "      <td>...</td>\n",
              "      <td>...</td>\n",
              "      <td>...</td>\n",
              "    </tr>\n",
              "    <tr>\n",
              "      <th>550</th>\n",
              "      <td>13943828</td>\n",
              "      <td>The Merthyr Express, Aberdare and East Glamorg...</td>\n",
              "      <td>NaN</td>\n",
              "      <td>ITEM</td>\n",
              "      <td>B2118934</td>\n",
              "      <td>1</td>\n",
              "      <td>1895</td>\n",
              "      <td>NaN</td>\n",
              "      <td>NaN</td>\n",
              "      <td>NaN</td>\n",
              "      <td>NaN</td>\n",
              "      <td>NaN</td>\n",
              "      <td>HMNTS</td>\n",
              "      <td>The Merthyr Express, Aberdare and East Glamorg...</td>\n",
              "      <td>Mid Glamorgan</td>\n",
              "      <td>1895</td>\n",
              "      <td>13943828</td>\n",
              "    </tr>\n",
              "    <tr>\n",
              "      <th>551</th>\n",
              "      <td>13943828</td>\n",
              "      <td>The Merthyr Express, Aberdare and East Glamorg...</td>\n",
              "      <td>NaN</td>\n",
              "      <td>ITEM</td>\n",
              "      <td>B2118932</td>\n",
              "      <td>1</td>\n",
              "      <td>1894</td>\n",
              "      <td>NaN</td>\n",
              "      <td>NaN</td>\n",
              "      <td>NaN</td>\n",
              "      <td>NaN</td>\n",
              "      <td>NaN</td>\n",
              "      <td>HMNTS</td>\n",
              "      <td>The Merthyr Express, Aberdare and East Glamorg...</td>\n",
              "      <td>Mid Glamorgan</td>\n",
              "      <td>1894</td>\n",
              "      <td>13943828</td>\n",
              "    </tr>\n",
              "    <tr>\n",
              "      <th>552</th>\n",
              "      <td>13943828</td>\n",
              "      <td>The Merthyr Express, Aberdare and East Glamorg...</td>\n",
              "      <td>NaN</td>\n",
              "      <td>ITEM</td>\n",
              "      <td>B2118930</td>\n",
              "      <td>1</td>\n",
              "      <td>1893</td>\n",
              "      <td>NaN</td>\n",
              "      <td>NaN</td>\n",
              "      <td>NaN</td>\n",
              "      <td>NaN</td>\n",
              "      <td>NaN</td>\n",
              "      <td>HMNTS</td>\n",
              "      <td>The Merthyr Express, Aberdare and East Glamorg...</td>\n",
              "      <td>Mid Glamorgan</td>\n",
              "      <td>1893</td>\n",
              "      <td>13943828</td>\n",
              "    </tr>\n",
              "    <tr>\n",
              "      <th>553</th>\n",
              "      <td>13943828</td>\n",
              "      <td>The Merthyr Express, Aberdare and East Glamorg...</td>\n",
              "      <td>NaN</td>\n",
              "      <td>ITEM</td>\n",
              "      <td>B2118948</td>\n",
              "      <td>1</td>\n",
              "      <td>1903</td>\n",
              "      <td>NaN</td>\n",
              "      <td>NaN</td>\n",
              "      <td>NaN</td>\n",
              "      <td>NaN</td>\n",
              "      <td>NaN</td>\n",
              "      <td>HMNTS</td>\n",
              "      <td>The Merthyr Express, Aberdare and East Glamorg...</td>\n",
              "      <td>Mid Glamorgan</td>\n",
              "      <td>1903</td>\n",
              "      <td>13943828</td>\n",
              "    </tr>\n",
              "    <tr>\n",
              "      <th>554</th>\n",
              "      <td>13943828</td>\n",
              "      <td>The Merthyr Express, Aberdare and East Glamorg...</td>\n",
              "      <td>NaN</td>\n",
              "      <td>ITEM</td>\n",
              "      <td>B2118946</td>\n",
              "      <td>1</td>\n",
              "      <td>1902</td>\n",
              "      <td>NaN</td>\n",
              "      <td>NaN</td>\n",
              "      <td>NaN</td>\n",
              "      <td>NaN</td>\n",
              "      <td>NaN</td>\n",
              "      <td>HMNTS</td>\n",
              "      <td>The Merthyr Express, Aberdare and East Glamorg...</td>\n",
              "      <td>Mid Glamorgan</td>\n",
              "      <td>1902</td>\n",
              "      <td>13943828</td>\n",
              "    </tr>\n",
              "  </tbody>\n",
              "</table>\n",
              "<p>555 rows × 17 columns</p>\n",
              "</div>"
            ],
            "text/plain": [
              "           ID  ...  Title.ID\n",
              "0    13894026  ...  13894026\n",
              "1    13894026  ...  13894026\n",
              "2    13894026  ...  13894026\n",
              "3    13894026  ...  13894026\n",
              "4    13894026  ...  13894026\n",
              "..        ...  ...       ...\n",
              "550  13943828  ...  13943828\n",
              "551  13943828  ...  13943828\n",
              "552  13943828  ...  13943828\n",
              "553  13943828  ...  13943828\n",
              "554  13943828  ...  13943828\n",
              "\n",
              "[555 rows x 17 columns]"
            ]
          },
          "metadata": {
            "tags": []
          },
          "execution_count": 8
        }
      ]
    },
    {
      "cell_type": "markdown",
      "metadata": {
        "id": "-2uWWG7q0FwF"
      },
      "source": [
        "### From a GitHub repository \n",
        "\n",
        "Often we'll have got our notebook from a GitHub repository. Sometimes the data we need will be included in this GitHub repository. To make this available inside Colab we can often clone the repository. As an example we want some data from this [repository](https://github.com/Living-with-machines/github_stats_report). We can clone it in the usual way, this will also grab any data included in the repository"
      ]
    },
    {
      "cell_type": "code",
      "metadata": {
        "colab": {
          "base_uri": "https://localhost:8080/"
        },
        "id": "RRPYX3Nk1oT_",
        "outputId": "6b331596-5dc9-4043-edf9-a7117dd46f4e"
      },
      "source": [
        "!git clone https://github.com/Living-with-machines/github_stats_report"
      ],
      "execution_count": 4,
      "outputs": [
        {
          "output_type": "stream",
          "text": [
            "Cloning into 'github_stats_report'...\n",
            "remote: Enumerating objects: 704, done.\u001b[K\n",
            "remote: Counting objects: 100% (704/704), done.\u001b[K\n",
            "remote: Compressing objects: 100% (531/531), done.\u001b[K\n",
            "remote: Total 704 (delta 427), reused 376 (delta 131), pack-reused 0\u001b[K\n",
            "Receiving objects: 100% (704/704), 688.02 KiB | 2.72 MiB/s, done.\n",
            "Resolving deltas: 100% (427/427), done.\n"
          ],
          "name": "stdout"
        }
      ]
    },
    {
      "cell_type": "markdown",
      "metadata": {
        "id": "grnsi4Qo-AgN"
      },
      "source": [
        "If the notebooks expects data to be organised in a particular way we can sometimes move the data to match this format quite easily (sometimes it will be necessary to modify some of the code). "
      ]
    },
    {
      "cell_type": "code",
      "metadata": {
        "colab": {
          "base_uri": "https://localhost:8080/"
        },
        "id": "WqyqPGdl1q7D",
        "outputId": "d94dd518-740f-44ec-c43f-853d506e1779"
      },
      "source": [
        "!mv /content/github_stats_report/clone_data ."
      ],
      "execution_count": 9,
      "outputs": [
        {
          "output_type": "stream",
          "text": [
            "mv: cannot stat '/content/github_stats_report/clone_data': No such file or directory\n"
          ],
          "name": "stdout"
        }
      ]
    },
    {
      "cell_type": "markdown",
      "metadata": {
        "id": "rcdAe6hV0Hre"
      },
      "source": [
        "## From a URL\n",
        "\n",
        "Lastly we can sometimes grab data files from a URL using `wget` or similar tools. "
      ]
    },
    {
      "cell_type": "code",
      "metadata": {
        "colab": {
          "base_uri": "https://localhost:8080/"
        },
        "id": "H1MK50j82Dur",
        "outputId": "fd9db063-76a4-4582-8028-ea0096c2d671"
      },
      "source": [
        "!wget https://s3.amazonaws.com/fast-ai-nlp/imdb.tgz"
      ],
      "execution_count": 10,
      "outputs": [
        {
          "output_type": "stream",
          "text": [
            "--2021-05-17 15:37:17--  https://s3.amazonaws.com/fast-ai-nlp/imdb.tgz\n",
            "Resolving s3.amazonaws.com (s3.amazonaws.com)... 52.217.203.40\n",
            "Connecting to s3.amazonaws.com (s3.amazonaws.com)|52.217.203.40|:443... connected.\n",
            "HTTP request sent, awaiting response... 200 OK\n",
            "Length: 144440600 (138M) [application/x-tar]\n",
            "Saving to: ‘imdb.tgz.1’\n",
            "\n",
            "imdb.tgz.1          100%[===================>] 137.75M  38.3MB/s    in 3.6s    \n",
            "\n",
            "2021-05-17 15:37:21 (38.3 MB/s) - ‘imdb.tgz.1’ saved [144440600/144440600]\n",
            "\n"
          ],
          "name": "stdout"
        }
      ]
    }
  ]
}